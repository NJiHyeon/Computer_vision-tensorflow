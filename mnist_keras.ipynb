{
 "cells": [
  {
   "cell_type": "markdown",
   "id": "909c8621-7907-4a3f-b1dd-ca6f07b9715b",
   "metadata": {},
   "source": [
    "### A simple computer vision model using Keras"
   ]
  },
  {
   "cell_type": "code",
   "execution_count": 2,
   "id": "fbe23686-14ab-4ece-879c-9fb977f21ebf",
   "metadata": {},
   "outputs": [],
   "source": [
    "import tensorflow as tf"
   ]
  },
  {
   "cell_type": "markdown",
   "id": "e1654280-3343-42b0-9ea9-4f3fe2abcc08",
   "metadata": {},
   "source": [
    "#### 1. input data"
   ]
  },
  {
   "cell_type": "code",
   "execution_count": 4,
   "id": "4c5b46b2-5af3-4906-ba0b-31067cd10809",
   "metadata": {},
   "outputs": [],
   "source": [
    "num_classes = 10\n",
    "img_rows, img_cols = 28, 28\n",
    "num_channels = 1\n",
    "input_shape = (img_rows, img_cols, num_channels)\n",
    "\n",
    "(x_train, y_train), (x_test, y_test) = tf.keras.datasets.mnist.load_data()\n",
    "x_train, x_test = x_train / 255.0, x_test / 255.0"
   ]
  },
  {
   "cell_type": "markdown",
   "id": "7099deb9-d630-4994-bbf9-425b22fb50a2",
   "metadata": {},
   "source": [
    "#### 2. Building a simple model"
   ]
  },
  {
   "cell_type": "code",
   "execution_count": 7,
   "id": "50a261d5-31bb-4d4b-a8ee-27a6b92bd799",
   "metadata": {},
   "outputs": [],
   "source": [
    "model = tf.keras.models.Sequential()\n",
    "model.add(tf.keras.layers.Flatten())\n",
    "model.add(tf.keras.layers.Dense(128, activation='relu'))\n",
    "model.add(tf.keras.layers.Dense(num_classes, activation='softmax'))"
   ]
  },
  {
   "cell_type": "markdown",
   "id": "f3012048-4ec9-403b-abef-4815ad9c4bb2",
   "metadata": {},
   "source": [
    "#### 3. Launch training"
   ]
  },
  {
   "cell_type": "code",
   "execution_count": 8,
   "id": "6802158b-cf91-4b14-a54b-646963890b51",
   "metadata": {},
   "outputs": [
    {
     "name": "stderr",
     "output_type": "stream",
     "text": [
      "2022-09-19 23:45:17.595718: I tensorflow/core/profiler/lib/profiler_session.cc:136] Profiler session initializing.\n",
      "2022-09-19 23:45:17.595759: I tensorflow/core/profiler/lib/profiler_session.cc:155] Profiler session started.\n",
      "2022-09-19 23:45:17.595803: I tensorflow/core/profiler/lib/profiler_session.cc:172] Profiler session tear down.\n",
      "2022-09-19 23:45:17.916816: I tensorflow/compiler/mlir/mlir_graph_optimization_pass.cc:116] None of the MLIR optimization passes are enabled (registered 2)\n",
      "2022-09-19 23:45:17.917232: I tensorflow/core/platform/profile_utils/cpu_utils.cc:112] CPU Frequency: 2200110000 Hz\n"
     ]
    },
    {
     "name": "stdout",
     "output_type": "stream",
     "text": [
      "Epoch 1/25\n",
      "   6/1875 [..............................] - ETA: 1:16 - loss: 2.3300 - accuracy: 0.1176"
     ]
    },
    {
     "name": "stderr",
     "output_type": "stream",
     "text": [
      "2022-09-19 23:45:18.570455: I tensorflow/core/profiler/lib/profiler_session.cc:136] Profiler session initializing.\n",
      "2022-09-19 23:45:18.570509: I tensorflow/core/profiler/lib/profiler_session.cc:155] Profiler session started.\n",
      "2022-09-19 23:45:18.605994: I tensorflow/core/profiler/lib/profiler_session.cc:71] Profiler session collecting data.\n",
      "2022-09-19 23:45:18.606846: I tensorflow/core/profiler/lib/profiler_session.cc:172] Profiler session tear down.\n",
      "2022-09-19 23:45:18.608011: I tensorflow/core/profiler/rpc/client/save_profile.cc:137] Creating directory: ./keras/train/plugins/profile/2022_09_19_23_45_18\n",
      "2022-09-19 23:45:18.608894: I tensorflow/core/profiler/rpc/client/save_profile.cc:143] Dumped gzipped tool data for trace.json.gz to ./keras/train/plugins/profile/2022_09_19_23_45_18/nipa2021-0752.trace.json.gz\n",
      "2022-09-19 23:45:18.611387: I tensorflow/core/profiler/rpc/client/save_profile.cc:137] Creating directory: ./keras/train/plugins/profile/2022_09_19_23_45_18\n",
      "2022-09-19 23:45:18.611726: I tensorflow/core/profiler/rpc/client/save_profile.cc:143] Dumped gzipped tool data for memory_profile.json.gz to ./keras/train/plugins/profile/2022_09_19_23_45_18/nipa2021-0752.memory_profile.json.gz\n",
      "2022-09-19 23:45:18.611922: I tensorflow/core/profiler/rpc/client/capture_profile.cc:251] Creating directory: ./keras/train/plugins/profile/2022_09_19_23_45_18Dumped tool data for xplane.pb to ./keras/train/plugins/profile/2022_09_19_23_45_18/nipa2021-0752.xplane.pb\n",
      "Dumped tool data for overview_page.pb to ./keras/train/plugins/profile/2022_09_19_23_45_18/nipa2021-0752.overview_page.pb\n",
      "Dumped tool data for input_pipeline.pb to ./keras/train/plugins/profile/2022_09_19_23_45_18/nipa2021-0752.input_pipeline.pb\n",
      "Dumped tool data for tensorflow_stats.pb to ./keras/train/plugins/profile/2022_09_19_23_45_18/nipa2021-0752.tensorflow_stats.pb\n",
      "Dumped tool data for kernel_stats.pb to ./keras/train/plugins/profile/2022_09_19_23_45_18/nipa2021-0752.kernel_stats.pb\n",
      "\n"
     ]
    },
    {
     "name": "stdout",
     "output_type": "stream",
     "text": [
      "1875/1875 [==============================] - 41s 22ms/step - loss: 1.0366 - accuracy: 0.7343 - val_loss: 0.3557 - val_accuracy: 0.9051\n",
      "Epoch 2/25\n",
      "1875/1875 [==============================] - 47s 25ms/step - loss: 0.3540 - accuracy: 0.9017 - val_loss: 0.2924 - val_accuracy: 0.9185\n",
      "Epoch 3/25\n",
      "1875/1875 [==============================] - 52s 28ms/step - loss: 0.2903 - accuracy: 0.9188 - val_loss: 0.2590 - val_accuracy: 0.9271\n",
      "Epoch 4/25\n",
      "1875/1875 [==============================] - 26s 14ms/step - loss: 0.2580 - accuracy: 0.9275 - val_loss: 0.2370 - val_accuracy: 0.9319\n",
      "Epoch 5/25\n",
      "1875/1875 [==============================] - 21s 11ms/step - loss: 0.2349 - accuracy: 0.9348 - val_loss: 0.2168 - val_accuracy: 0.9377\n",
      "Epoch 6/25\n",
      "1875/1875 [==============================] - 25s 13ms/step - loss: 0.2221 - accuracy: 0.9393 - val_loss: 0.2035 - val_accuracy: 0.9410\n",
      "Epoch 7/25\n",
      "1875/1875 [==============================] - 45s 24ms/step - loss: 0.2018 - accuracy: 0.9438 - val_loss: 0.1904 - val_accuracy: 0.9440\n",
      "Epoch 8/25\n",
      "1875/1875 [==============================] - 33s 18ms/step - loss: 0.1909 - accuracy: 0.9471 - val_loss: 0.1780 - val_accuracy: 0.9482\n",
      "Epoch 9/25\n",
      "1875/1875 [==============================] - 37s 20ms/step - loss: 0.1756 - accuracy: 0.9521 - val_loss: 0.1697 - val_accuracy: 0.9492\n",
      "Epoch 10/25\n",
      "1875/1875 [==============================] - 19s 10ms/step - loss: 0.1643 - accuracy: 0.9544 - val_loss: 0.1612 - val_accuracy: 0.9521\n",
      "Epoch 11/25\n",
      "1875/1875 [==============================] - 38s 20ms/step - loss: 0.1590 - accuracy: 0.9562 - val_loss: 0.1521 - val_accuracy: 0.9546\n",
      "Epoch 12/25\n",
      "1875/1875 [==============================] - 64s 34ms/step - loss: 0.1460 - accuracy: 0.9591 - val_loss: 0.1462 - val_accuracy: 0.9557\n",
      "Epoch 13/25\n",
      "1875/1875 [==============================] - 36s 19ms/step - loss: 0.1417 - accuracy: 0.9606 - val_loss: 0.1390 - val_accuracy: 0.9574\n",
      "Epoch 14/25\n",
      "1875/1875 [==============================] - 46s 25ms/step - loss: 0.1305 - accuracy: 0.9641 - val_loss: 0.1349 - val_accuracy: 0.9596\n",
      "Epoch 15/25\n",
      "1875/1875 [==============================] - 44s 24ms/step - loss: 0.1292 - accuracy: 0.9639 - val_loss: 0.1318 - val_accuracy: 0.9607\n",
      "Epoch 16/25\n",
      "1875/1875 [==============================] - 15s 8ms/step - loss: 0.1212 - accuracy: 0.9663 - val_loss: 0.1258 - val_accuracy: 0.9633\n",
      "Epoch 17/25\n",
      "1875/1875 [==============================] - 61s 33ms/step - loss: 0.1167 - accuracy: 0.9677 - val_loss: 0.1223 - val_accuracy: 0.9649\n",
      "Epoch 18/25\n",
      "1875/1875 [==============================] - 26s 14ms/step - loss: 0.1133 - accuracy: 0.9670 - val_loss: 0.1197 - val_accuracy: 0.9649\n",
      "Epoch 19/25\n",
      "1875/1875 [==============================] - 50s 27ms/step - loss: 0.1087 - accuracy: 0.9700 - val_loss: 0.1159 - val_accuracy: 0.9661\n",
      "Epoch 20/25\n",
      "1875/1875 [==============================] - 31s 17ms/step - loss: 0.1023 - accuracy: 0.9720 - val_loss: 0.1126 - val_accuracy: 0.9669\n",
      "Epoch 21/25\n",
      "1875/1875 [==============================] - 16s 9ms/step - loss: 0.0987 - accuracy: 0.9723 - val_loss: 0.1089 - val_accuracy: 0.9680\n",
      "Epoch 22/25\n",
      "1875/1875 [==============================] - 41s 22ms/step - loss: 0.0964 - accuracy: 0.9734 - val_loss: 0.1073 - val_accuracy: 0.9691\n",
      "Epoch 23/25\n",
      "1875/1875 [==============================] - 22s 12ms/step - loss: 0.0952 - accuracy: 0.9733 - val_loss: 0.1050 - val_accuracy: 0.9694\n",
      "Epoch 24/25\n",
      "1875/1875 [==============================] - 50s 27ms/step - loss: 0.0898 - accuracy: 0.9754 - val_loss: 0.1027 - val_accuracy: 0.9694\n",
      "Epoch 25/25\n",
      "1875/1875 [==============================] - 44s 23ms/step - loss: 0.0885 - accuracy: 0.9758 - val_loss: 0.1006 - val_accuracy: 0.9706\n"
     ]
    },
    {
     "data": {
      "text/plain": [
       "<tensorflow.python.keras.callbacks.History at 0x7f65122947c0>"
      ]
     },
     "execution_count": 8,
     "metadata": {},
     "output_type": "execute_result"
    }
   ],
   "source": [
    "model.compile(optimizer='sgd',\n",
    "              loss='sparse_categorical_crossentropy',\n",
    "              metrics=['accuracy'])\n",
    "\n",
    "callbacks = [tf.keras.callbacks.TensorBoard('./keras')]\n",
    "model.fit(x_train, y_train, epochs=25, verbose=1, validation_data=(x_test, y_test), callbacks=callbacks)"
   ]
  }
 ],
 "metadata": {
  "kernelspec": {
   "display_name": "nozzi",
   "language": "python",
   "name": "nozzi"
  },
  "language_info": {
   "codemirror_mode": {
    "name": "ipython",
    "version": 3
   },
   "file_extension": ".py",
   "mimetype": "text/x-python",
   "name": "python",
   "nbconvert_exporter": "python",
   "pygments_lexer": "ipython3",
   "version": "3.9.7"
  }
 },
 "nbformat": 4,
 "nbformat_minor": 5
}
